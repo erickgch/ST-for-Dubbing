{
 "cells": [
  {
   "cell_type": "code",
   "execution_count": 73,
   "metadata": {},
   "outputs": [],
   "source": [
    "import pandas as pd\n",
    "import math, statistics\n",
    "import glob\n",
    "import csv\n",
    "\n",
    "path_ = r\"C:/Users/erick/OneDrive/Desktop/MT-FBK-internship/on-off/on_spa/heroes*.csv\"\n",
    "\n",
    "# function to obtain number of prosodic phrases per segment and means,std devs of frequency and intensity for each phrase.\n",
    "\n",
    "def fq_int_calc(path, tag='x'): # tag = on/off/mixed\n",
    "    final_value_list = []\n",
    "    final_pcount_list = []\n",
    "    for fname in glob.glob(path):\n",
    "        df = pd.read_csv(fname, delimiter='|')\n",
    "\n",
    "        # fq_int = list containing mean freq and mean int for each segment. \n",
    "        #          It is a list of lists (prosodic phrases) of tuples (words).\n",
    "        fq_int = []\n",
    "        temp_l_ = []\n",
    "        w_count = 0\n",
    "        phrase_count = 0\n",
    "        \n",
    "        # phrases are delimited by silences longer than 0.25 secs or periods.\n",
    "        for index, row in df.iterrows():\n",
    "            w_count += 1\n",
    "            if w_count == len(df):\n",
    "                temp_l_.append((row.f0_mean_hz,row.i0_mean_db))\n",
    "                fq_int.append(temp_l_)\n",
    "                temp_l_ = []\n",
    "                phrase_count += 1        \n",
    "            elif(float(row.pause_after)) >= 0.25:\n",
    "                temp_l_.append((row.f0_mean_hz,row.i0_mean_db))\n",
    "                fq_int.append(temp_l_)\n",
    "                temp_l_ = []\n",
    "                phrase_count += 1\n",
    "            elif row['punctuation_after'] == '.':\n",
    "                # only periods\n",
    "                temp_l_.append((row.f0_mean_hz,row.i0_mean_db))\n",
    "                fq_int.append(temp_l_)\n",
    "                temp_l_ = []\n",
    "                phrase_count += 1\n",
    "            else:\n",
    "                temp_l_.append((row.f0_mean_hz,row.i0_mean_db))\n",
    "        final_pcount_list.append([fname[-28:-4],str(len(fq_int))])\n",
    "\n",
    "        n = 0 # to assign the prosodic phrase number to each row in the df\n",
    "        for i in fq_int:\n",
    "            temp_ = []\n",
    "            temp_2 = []\n",
    "            for k in i:\n",
    "                temp_.append(k[0])\n",
    "                temp_2.append(k[1])\n",
    "            \n",
    "            n = n+1\n",
    "            try:\n",
    "                name = (fname[-28:-3]+str(n))\n",
    "                freq_mean = statistics.mean(temp_)\n",
    "                freq_stdev = statistics.stdev(temp_)\n",
    "                freq_stdev_cent = 1200*math.log2((freq_mean+freq_stdev)/freq_mean)\n",
    "                int_mean = statistics.mean(temp_2)\n",
    "                int_stdev = statistics.stdev(temp_2)\n",
    "                \n",
    "                vl = [name, freq_mean, freq_stdev, freq_stdev_cent, int_mean, int_stdev, str(tag)]\n",
    "            # if segments consist of a single word, Stdev cannot be calculated, thus a value of 0 is assigned.\n",
    "            except:\n",
    "                name = (fname[-28:-3]+str(n))\n",
    "                freq_mean = k[0]\n",
    "                freq_stdev = 0\n",
    "                int_mean = k[1]\n",
    "                int_stdev = 0\n",
    "    \n",
    "                vl = [name, k[0], 0, 0, k[1], 0, str(tag)]\n",
    "        final_value_list.append(vl)\n",
    "        \n",
    "    return final_value_list, final_pcount_list\n"
   ]
  },
  {
   "cell_type": "code",
   "execution_count": 74,
   "metadata": {},
   "outputs": [],
   "source": [
    "# creating csv files with the results by calling the function created above\n",
    "\n",
    "'''\n",
    "with open('results_frequency_intensity_spa_on.csv', \"w\", newline='',encoding='utf-8') as f:\n",
    "        csv_out=csv.writer(f)\n",
    "        csv_out.writerow(['file_name','freq_mean', 'freq_stdev_hz', 'freq_stdev_cent', 'int_mean', 'int_stdev', 'on/off'])\n",
    "        for row in fq_int_calc(path_, 'on')[0]:\n",
    "            csv_out.writerow(row)\n",
    "'''\n",
    "            \n",
    "with open('num_phrases_spa_on.csv', \"w\", newline='',encoding='utf-8') as f:\n",
    "        csv_out=csv.writer(f)\n",
    "        csv_out.writerow(['file_name','num_phrases'])\n",
    "        for row in fq_int_calc(path_)[1]:\n",
    "            csv_out.writerow(row)"
   ]
  },
  {
   "cell_type": "code",
   "execution_count": 31,
   "metadata": {},
   "outputs": [],
   "source": [
    "# Comparing frequency and intensity between ENG ans SPA using pandas\n",
    "# off-screen\n",
    "\n",
    "import numpy as np\n",
    "import pandas as pd\n",
    "\n",
    "eng_data = r\"C:/Users/erick/OneDrive/Desktop/results_frequency_intensity_eng_off.csv\"\n",
    "spa_data = r\"C:/Users/erick/OneDrive/Desktop/results_frequency_intensity_spa_off.csv\"\n",
    "\n",
    "df_spa = pd.read_csv(spa_data)\n",
    "df_eng = pd.read_csv(eng_data)\n",
    "\n",
    "#dataframe with relevant data\n",
    "df_diff = pd.DataFrame({'file_name': df_eng.file_name, 'freq_eng': df_eng.freq_stdev_cent, 'freq_spa': df_spa.freq_stdev_cent,\n",
    "                       'int_eng': df_eng.int_stdev, 'int_spa': df_spa.int_stdev})\n",
    "\n",
    "#removing anomalous phrases (e.g. 0 freq/int)\n",
    "df_diff = df_diff.drop(df_diff[df_diff.freq_eng < 1].index)\n",
    "df_diff = df_diff.drop(df_diff[df_diff.freq_spa < 1].index)\n",
    "df_diff = df_diff.drop(df_diff[df_diff.int_eng < 1].index)\n",
    "df_diff = df_diff.drop(df_diff[df_diff.int_spa < 1].index)\n",
    "\n",
    "#new columns\n",
    "df_diff['diff_freq_in_cents'] = np.where(df_diff['freq_eng'] == df_diff['freq_spa'], 0, df_diff['freq_eng'] - df_diff['freq_spa'])\n",
    "df_diff['diff_freq_proportion'] = ((df_diff.freq_eng / df_diff.freq_spa) - 1)\n",
    "df_diff['winner_freq'] = np.where(df_diff['freq_eng'] > df_diff['freq_spa'], 'ENG', 'SPA')\n",
    "df_diff['diff_int_db'] = np.where(df_diff['int_eng'] == df_diff['int_spa'], 0, df_diff['int_eng'] - df_diff['int_spa'])\n",
    "df_diff['winner_int'] = np.where(df_diff['int_eng'] > df_diff['int_spa'], 'ENG', 'SPA')"
   ]
  },
  {
   "cell_type": "code",
   "execution_count": 32,
   "metadata": {},
   "outputs": [
    {
     "data": {
      "text/html": [
       "<div>\n",
       "<style scoped>\n",
       "    .dataframe tbody tr th:only-of-type {\n",
       "        vertical-align: middle;\n",
       "    }\n",
       "\n",
       "    .dataframe tbody tr th {\n",
       "        vertical-align: top;\n",
       "    }\n",
       "\n",
       "    .dataframe thead th {\n",
       "        text-align: right;\n",
       "    }\n",
       "</style>\n",
       "<table border=\"1\" class=\"dataframe\">\n",
       "  <thead>\n",
       "    <tr style=\"text-align: right;\">\n",
       "      <th></th>\n",
       "      <th>file_name</th>\n",
       "      <th>freq_eng</th>\n",
       "      <th>freq_spa</th>\n",
       "      <th>int_eng</th>\n",
       "      <th>int_spa</th>\n",
       "      <th>diff_freq_in_cents</th>\n",
       "      <th>diff_freq_proportion</th>\n",
       "      <th>winner_freq</th>\n",
       "      <th>diff_int_db</th>\n",
       "      <th>winner_int</th>\n",
       "    </tr>\n",
       "  </thead>\n",
       "  <tbody>\n",
       "    <tr>\n",
       "      <td>1</td>\n",
       "      <td>2_10_eng_aligned_eng0004.1</td>\n",
       "      <td>455.432713</td>\n",
       "      <td>1232.732132</td>\n",
       "      <td>3.444803</td>\n",
       "      <td>1.000000</td>\n",
       "      <td>-777.299419</td>\n",
       "      <td>-0.630550</td>\n",
       "      <td>SPA</td>\n",
       "      <td>2.444803</td>\n",
       "      <td>ENG</td>\n",
       "    </tr>\n",
       "    <tr>\n",
       "      <td>4</td>\n",
       "      <td>2_10_eng_aligned_eng0019.2</td>\n",
       "      <td>1292.306532</td>\n",
       "      <td>1386.779031</td>\n",
       "      <td>3.714835</td>\n",
       "      <td>1.986063</td>\n",
       "      <td>-94.472499</td>\n",
       "      <td>-0.068124</td>\n",
       "      <td>SPA</td>\n",
       "      <td>1.728773</td>\n",
       "      <td>ENG</td>\n",
       "    </tr>\n",
       "    <tr>\n",
       "      <td>5</td>\n",
       "      <td>2_10_eng_aligned_eng0020.1</td>\n",
       "      <td>1059.867355</td>\n",
       "      <td>554.151828</td>\n",
       "      <td>4.386125</td>\n",
       "      <td>2.136976</td>\n",
       "      <td>505.715527</td>\n",
       "      <td>0.912594</td>\n",
       "      <td>ENG</td>\n",
       "      <td>2.249149</td>\n",
       "      <td>ENG</td>\n",
       "    </tr>\n",
       "    <tr>\n",
       "      <td>6</td>\n",
       "      <td>2_10_eng_aligned_eng0021.1</td>\n",
       "      <td>62.867557</td>\n",
       "      <td>1006.069635</td>\n",
       "      <td>3.763461</td>\n",
       "      <td>2.316607</td>\n",
       "      <td>-943.202078</td>\n",
       "      <td>-0.937512</td>\n",
       "      <td>SPA</td>\n",
       "      <td>1.446854</td>\n",
       "      <td>ENG</td>\n",
       "    </tr>\n",
       "    <tr>\n",
       "      <td>10</td>\n",
       "      <td>2_10_eng_aligned_eng0040.1</td>\n",
       "      <td>602.893566</td>\n",
       "      <td>419.736357</td>\n",
       "      <td>7.176060</td>\n",
       "      <td>3.480900</td>\n",
       "      <td>183.157209</td>\n",
       "      <td>0.436363</td>\n",
       "      <td>ENG</td>\n",
       "      <td>3.695159</td>\n",
       "      <td>ENG</td>\n",
       "    </tr>\n",
       "    <tr>\n",
       "      <td>...</td>\n",
       "      <td>...</td>\n",
       "      <td>...</td>\n",
       "      <td>...</td>\n",
       "      <td>...</td>\n",
       "      <td>...</td>\n",
       "      <td>...</td>\n",
       "      <td>...</td>\n",
       "      <td>...</td>\n",
       "      <td>...</td>\n",
       "      <td>...</td>\n",
       "    </tr>\n",
       "    <tr>\n",
       "      <td>1193</td>\n",
       "      <td>s3_9_eng_aligned_eng0287.1</td>\n",
       "      <td>1191.264279</td>\n",
       "      <td>1426.649648</td>\n",
       "      <td>4.535574</td>\n",
       "      <td>3.236694</td>\n",
       "      <td>-235.385369</td>\n",
       "      <td>-0.164992</td>\n",
       "      <td>SPA</td>\n",
       "      <td>1.298879</td>\n",
       "      <td>ENG</td>\n",
       "    </tr>\n",
       "    <tr>\n",
       "      <td>1196</td>\n",
       "      <td>s3_9_eng_aligned_eng0304.2</td>\n",
       "      <td>1084.807508</td>\n",
       "      <td>267.886333</td>\n",
       "      <td>1.527525</td>\n",
       "      <td>5.259911</td>\n",
       "      <td>816.921176</td>\n",
       "      <td>3.049507</td>\n",
       "      <td>ENG</td>\n",
       "      <td>-3.732386</td>\n",
       "      <td>SPA</td>\n",
       "    </tr>\n",
       "    <tr>\n",
       "      <td>1197</td>\n",
       "      <td>s3_9_eng_aligned_eng0315.2</td>\n",
       "      <td>210.748179</td>\n",
       "      <td>1286.206661</td>\n",
       "      <td>1.834848</td>\n",
       "      <td>2.250926</td>\n",
       "      <td>-1075.458483</td>\n",
       "      <td>-0.836147</td>\n",
       "      <td>SPA</td>\n",
       "      <td>-0.416078</td>\n",
       "      <td>SPA</td>\n",
       "    </tr>\n",
       "    <tr>\n",
       "      <td>1198</td>\n",
       "      <td>s3_9_eng_aligned_eng0316.5</td>\n",
       "      <td>204.368880</td>\n",
       "      <td>1714.476989</td>\n",
       "      <td>1.154701</td>\n",
       "      <td>2.292686</td>\n",
       "      <td>-1510.108109</td>\n",
       "      <td>-0.880798</td>\n",
       "      <td>SPA</td>\n",
       "      <td>-1.137986</td>\n",
       "      <td>SPA</td>\n",
       "    </tr>\n",
       "    <tr>\n",
       "      <td>1199</td>\n",
       "      <td>s3_9_eng_aligned_eng0317.1</td>\n",
       "      <td>637.729038</td>\n",
       "      <td>1739.981176</td>\n",
       "      <td>2.987152</td>\n",
       "      <td>1.154701</td>\n",
       "      <td>-1102.252138</td>\n",
       "      <td>-0.633485</td>\n",
       "      <td>SPA</td>\n",
       "      <td>1.832451</td>\n",
       "      <td>ENG</td>\n",
       "    </tr>\n",
       "  </tbody>\n",
       "</table>\n",
       "<p>829 rows × 10 columns</p>\n",
       "</div>"
      ],
      "text/plain": [
       "                       file_name     freq_eng     freq_spa   int_eng  \\\n",
       "1     2_10_eng_aligned_eng0004.1   455.432713  1232.732132  3.444803   \n",
       "4     2_10_eng_aligned_eng0019.2  1292.306532  1386.779031  3.714835   \n",
       "5     2_10_eng_aligned_eng0020.1  1059.867355   554.151828  4.386125   \n",
       "6     2_10_eng_aligned_eng0021.1    62.867557  1006.069635  3.763461   \n",
       "10    2_10_eng_aligned_eng0040.1   602.893566   419.736357  7.176060   \n",
       "...                          ...          ...          ...       ...   \n",
       "1193  s3_9_eng_aligned_eng0287.1  1191.264279  1426.649648  4.535574   \n",
       "1196  s3_9_eng_aligned_eng0304.2  1084.807508   267.886333  1.527525   \n",
       "1197  s3_9_eng_aligned_eng0315.2   210.748179  1286.206661  1.834848   \n",
       "1198  s3_9_eng_aligned_eng0316.5   204.368880  1714.476989  1.154701   \n",
       "1199  s3_9_eng_aligned_eng0317.1   637.729038  1739.981176  2.987152   \n",
       "\n",
       "       int_spa  diff_freq_in_cents  diff_freq_proportion winner_freq  \\\n",
       "1     1.000000         -777.299419             -0.630550         SPA   \n",
       "4     1.986063          -94.472499             -0.068124         SPA   \n",
       "5     2.136976          505.715527              0.912594         ENG   \n",
       "6     2.316607         -943.202078             -0.937512         SPA   \n",
       "10    3.480900          183.157209              0.436363         ENG   \n",
       "...        ...                 ...                   ...         ...   \n",
       "1193  3.236694         -235.385369             -0.164992         SPA   \n",
       "1196  5.259911          816.921176              3.049507         ENG   \n",
       "1197  2.250926        -1075.458483             -0.836147         SPA   \n",
       "1198  2.292686        -1510.108109             -0.880798         SPA   \n",
       "1199  1.154701        -1102.252138             -0.633485         SPA   \n",
       "\n",
       "      diff_int_db winner_int  \n",
       "1        2.444803        ENG  \n",
       "4        1.728773        ENG  \n",
       "5        2.249149        ENG  \n",
       "6        1.446854        ENG  \n",
       "10       3.695159        ENG  \n",
       "...           ...        ...  \n",
       "1193     1.298879        ENG  \n",
       "1196    -3.732386        SPA  \n",
       "1197    -0.416078        SPA  \n",
       "1198    -1.137986        SPA  \n",
       "1199     1.832451        ENG  \n",
       "\n",
       "[829 rows x 10 columns]"
      ]
     },
     "execution_count": 32,
     "metadata": {},
     "output_type": "execute_result"
    }
   ],
   "source": [
    "df_diff"
   ]
  },
  {
   "cell_type": "code",
   "execution_count": 37,
   "metadata": {},
   "outputs": [
    {
     "name": "stdout",
     "output_type": "stream",
     "text": [
      "752.9948521403574 3.2395660165259828\n"
     ]
    }
   ],
   "source": [
    "diff_freq_sum = df_diff['freq_eng'].sum(axis=0, skipna = True) \n",
    "diff_int_sum = df_diff['int_eng'].sum(axis=0, skipna = True)\n",
    "diff_freq_mean = diff_freq_sum/len(df_diff['freq_eng'])\n",
    "diff_int_mean = diff_int_sum/len(df_diff['int_eng'])\n",
    "\n",
    "# mean difference for frequency stdev (in cents) and intensity (in db)\n",
    "\n",
    "print(diff_freq_mean, diff_int_mean)"
   ]
  },
  {
   "cell_type": "code",
   "execution_count": 34,
   "metadata": {},
   "outputs": [
    {
     "data": {
      "text/plain": [
       "(             file_name  freq_eng  freq_spa  int_eng  int_spa  \\\n",
       " winner_freq                                                    \n",
       " ENG                378       378       378      378      378   \n",
       " SPA                451       451       451      451      451   \n",
       " \n",
       "              diff_freq_in_cents  diff_freq_proportion  diff_int_db  winner_int  \n",
       " winner_freq                                                                     \n",
       " ENG                         378                   378          378         378  \n",
       " SPA                         451                   451          451         451  ,\n",
       "             file_name  freq_eng  freq_spa  int_eng  int_spa  \\\n",
       " winner_int                                                    \n",
       " ENG               458       458       458      458      458   \n",
       " SPA               371       371       371      371      371   \n",
       " \n",
       "             diff_freq_in_cents  diff_freq_proportion  winner_freq  diff_int_db  \n",
       " winner_int                                                                      \n",
       " ENG                        458                   458          458          458  \n",
       " SPA                        371                   371          371          371  )"
      ]
     },
     "execution_count": 34,
     "metadata": {},
     "output_type": "execute_result"
    }
   ],
   "source": [
    "# pairwise comparison of frequency and intensity stdev. winner = element with the highest freq./int. stdev\n",
    "\n",
    "df_diff.groupby('winner_freq').count(), df_diff.groupby('winner_int').count()"
   ]
  },
  {
   "cell_type": "code",
   "execution_count": 35,
   "metadata": {},
   "outputs": [
    {
     "data": {
      "text/plain": [
       "array([[<matplotlib.axes._subplots.AxesSubplot object at 0x0000016DA84AFC88>]],\n",
       "      dtype=object)"
      ]
     },
     "execution_count": 35,
     "metadata": {},
     "output_type": "execute_result"
    },
    {
     "data": {
      "image/png": "[encoded data removed]",
      "text/plain": [
       "<Figure size 432x288 with 1 Axes>"
      ]
     },
     "metadata": {
      "needs_background": "light"
     },
     "output_type": "display_data"
    },
    {
     "data": {
      "image/png": "[encoded data removed]",
      "text/plain": [
       "<Figure size 432x288 with 1 Axes>"
      ]
     },
     "metadata": {
      "needs_background": "light"
     },
     "output_type": "display_data"
    }
   ],
   "source": [
    "# distribution of frequency stdev (in cents) values at phrase level per language. 1- ENG; 2- SPA\n",
    "\n",
    "df_diff.hist(column='freq_eng', bins=50)\n",
    "df_diff.hist(column='freq_spa', bins=50)"
   ]
  },
  {
   "cell_type": "code",
   "execution_count": 3,
   "metadata": {},
   "outputs": [],
   "source": [
    "# Pairwise comparison of prosodic phrases per segment\n",
    "\n",
    "import pandas as pd\n",
    "eng_data = r\"C:/Users/erick/OneDrive/Desktop/num_phrases_eng_on.csv\"\n",
    "spa_data = r\"C:/Users/erick/OneDrive/Desktop/num_phrases_spa_on.csv\"\n",
    "\n",
    "df_spa = pd.read_csv(spa_data)\n",
    "df_eng = pd.read_csv(eng_data)\n",
    "\n",
    "df_phrases = pd.DataFrame({'file_name': df_eng.file_name, 'eng_phrases': df_eng.num_phrases, 'spa_phrases': df_spa.num_phrases})\n",
    "\n",
    "df_phrases"
   ]
  },
  {
   "cell_type": "code",
   "execution_count": 7,
   "metadata": {},
   "outputs": [],
   "source": [
    "#get, for each pair, the element with the most phrases. If both have the same number of phrases, return 'NON'\n",
    "\n",
    "df_phrases['winner'] = np.where(df_phrases.eng_phrases == df_phrases.spa_phrases, 'NON', \n",
    "         (np.where(df_phrases.eng_phrases < df_phrases.spa_phrases, 'SPA', 'ENG')))"
   ]
  },
  {
   "cell_type": "code",
   "execution_count": 8,
   "metadata": {},
   "outputs": [
    {
     "data": {
      "text/html": [
       "<div>\n",
       "<style scoped>\n",
       "    .dataframe tbody tr th:only-of-type {\n",
       "        vertical-align: middle;\n",
       "    }\n",
       "\n",
       "    .dataframe tbody tr th {\n",
       "        vertical-align: top;\n",
       "    }\n",
       "\n",
       "    .dataframe thead th {\n",
       "        text-align: right;\n",
       "    }\n",
       "</style>\n",
       "<table border=\"1\" class=\"dataframe\">\n",
       "  <thead>\n",
       "    <tr style=\"text-align: right;\">\n",
       "      <th></th>\n",
       "      <th>file_name</th>\n",
       "      <th>eng_phrases</th>\n",
       "      <th>spa_phrases</th>\n",
       "    </tr>\n",
       "    <tr>\n",
       "      <th>winner</th>\n",
       "      <th></th>\n",
       "      <th></th>\n",
       "      <th></th>\n",
       "    </tr>\n",
       "  </thead>\n",
       "  <tbody>\n",
       "    <tr>\n",
       "      <td>ENG</td>\n",
       "      <td>406</td>\n",
       "      <td>406</td>\n",
       "      <td>406</td>\n",
       "    </tr>\n",
       "    <tr>\n",
       "      <td>NON</td>\n",
       "      <td>3417</td>\n",
       "      <td>3417</td>\n",
       "      <td>3417</td>\n",
       "    </tr>\n",
       "    <tr>\n",
       "      <td>SPA</td>\n",
       "      <td>339</td>\n",
       "      <td>339</td>\n",
       "      <td>339</td>\n",
       "    </tr>\n",
       "  </tbody>\n",
       "</table>\n",
       "</div>"
      ],
      "text/plain": [
       "        file_name  eng_phrases  spa_phrases\n",
       "winner                                     \n",
       "ENG           406          406          406\n",
       "NON          3417         3417         3417\n",
       "SPA           339          339          339"
      ]
     },
     "execution_count": 8,
     "metadata": {},
     "output_type": "execute_result"
    }
   ],
   "source": [
    "df_phrases\n",
    "df_phrases.groupby('winner').count()"
   ]
  },
  {
   "cell_type": "code",
   "execution_count": 9,
   "metadata": {},
   "outputs": [],
   "source": [
    "phrase_sum_e = df_phrases['eng_phrases'].sum(axis=0, skipna = True)\n",
    "phrase_sum_s = df_phrases['spa_phrases'].sum(axis=0, skipna = True)\n",
    "\n",
    "mean_phrase_eng = phrase_sum_e /len(df_phrases['eng_phrases'])\n",
    "mean_phrase_spa = phrase_sum_s /len(df_phrases['spa_phrases'])\n",
    "\n",
    "# mean number of phrases per segment\n",
    "\n",
    "mean_phrase_eng, mean_phrase_spa"
   ]
  },
  {
   "cell_type": "code",
   "execution_count": 38,
   "metadata": {},
   "outputs": [
    {
     "data": {
      "text/plain": [
       "array([[<matplotlib.axes._subplots.AxesSubplot object at 0x0000016DB9D3EAC8>]],\n",
       "      dtype=object)"
      ]
     },
     "execution_count": 38,
     "metadata": {},
     "output_type": "execute_result"
    },
    {
     "data": {
      "image/png": "[encoded data removed]",
      "text/plain": [
       "<Figure size 432x288 with 1 Axes>"
      ]
     },
     "metadata": {
      "needs_background": "light"
     },
     "output_type": "display_data"
    },
    {
     "data": {
      "image/png": "[encoded data removed]",
      "text/plain": [
       "<Figure size 432x288 with 1 Axes>"
      ]
     },
     "metadata": {
      "needs_background": "light"
     },
     "output_type": "display_data"
    }
   ],
   "source": [
    "# distribution of number of phrases per segment per language\n",
    "\n",
    "df_phrases.hist(column='eng_phrases', bins=5)\n",
    "df_phrases.hist(column='spa_phrases', bins=5)"
   ]
  },
  {
   "cell_type": "code",
   "execution_count": null,
   "metadata": {},
   "outputs": [],
   "source": []
  }
 ],
 "metadata": {
  "kernelspec": {
   "display_name": "Python 3",
   "language": "python",
   "name": "python3"
  },
  "language_info": {
   "codemirror_mode": {
    "name": "ipython",
    "version": 3
   },
   "file_extension": ".py",
   "mimetype": "text/x-python",
   "name": "python",
   "nbconvert_exporter": "python",
   "pygments_lexer": "ipython3",
   "version": "3.7.4"
  }
 },
 "nbformat": 4,
 "nbformat_minor": 2
}
