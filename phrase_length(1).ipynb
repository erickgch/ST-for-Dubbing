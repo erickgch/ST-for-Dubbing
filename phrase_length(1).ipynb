{
 "cells": [
  {
   "cell_type": "code",
   "execution_count": 1,
   "metadata": {},
   "outputs": [],
   "source": [
    "import pandas as pd\n",
    "import math, statistics\n",
    "import glob\n",
    "import csv, re\n",
    "\n",
    "path_mix_spa = r\"C:/Users/erick/OneDrive/Desktop/MT-FBK-internship/on-off/mixed_spa/heroes*.csv\"\n",
    "path_mix_eng = r\"C:/Users/erick/OneDrive/Desktop/MT-FBK-internship/on-off/mixed_eng/heroes*.csv\"\n",
    "path_on_spa = r\"C:/Users/erick/OneDrive/Desktop/MT-FBK-internship/on-off/on_spa/heroes*.csv\"\n",
    "path_on_eng = r\"C:/Users/erick/OneDrive/Desktop/MT-FBK-internship/on-off/on_eng/heroes*.csv\"\n",
    "path_off_spa = r\"C:/Users/erick/OneDrive/Desktop/MT-FBK-internship/on-off/off_spa/heroes*.csv\"\n",
    "path_off_eng = r\"C:/Users/erick/OneDrive/Desktop/MT-FBK-internship/on-off/off_eng/heroes*.csv\"\n",
    "\n",
    "# function to obtain length of prosodic phrases for each segment\n",
    "\n",
    "def phr_length(path, tag='x'): # tag = on/off/mixed\n",
    "    final_value_list = []\n",
    "    final_plength_list = []\n",
    "    for fname in glob.glob(path):\n",
    "        df = pd.read_csv(fname, delimiter='|')\n",
    "\n",
    "        # phr_dur = duration for each prosodic phrase\n",
    "        #          It is a list of lists (prosodic phrases) of tuples (words).\n",
    "        phr_dur = []\n",
    "        temp_l_ = []\n",
    "        w_count = 0\n",
    "        \n",
    "        # phrases are delimited by silences longer than 0.25 secs or periods.\n",
    "        for index, row in df.iterrows():\n",
    "            w_count += 1\n",
    "            if w_count == len(df):\n",
    "                temp_l_.append(row.duration)\n",
    "                phr_dur.append(sum(temp_l_))\n",
    "                temp_l_ = []      \n",
    "            elif(float(row.pause_after)) >= 0.25:\n",
    "                temp_l_.append(row.duration)\n",
    "                phr_dur.append(sum(temp_l_))\n",
    "                temp_l_ = []\n",
    "            else:\n",
    "                temp_l_.append((row.duration))\n",
    "        final_plength_list.append(phr_dur)\n",
    "\n",
    "    n = 0 # to assign the prosodic phrase number to each row in the df\n",
    "    for l in final_plength_list:\n",
    "        for i in l:\n",
    "            n = n+1\n",
    "            try:\n",
    "                name = ''.join(re.findall(r'(s\\d.+\\d)', fname))\n",
    "                name = name+'.'+str(n)\n",
    "                phr_duration = i\n",
    "\n",
    "                vl = [name, phr_duration, str(tag)]\n",
    "            # to handle phrases with 0 duration (if any)\n",
    "            except:\n",
    "                name = ''.join(re.findall('(s\\d.+\\d)', fname))\n",
    "                name = name+'.'+str(n)\n",
    "\n",
    "                vl = [name, 0, str(tag)]\n",
    "        \n",
    "        final_value_list.append(vl)\n",
    "        \n",
    "    return final_value_list\n",
    "\n",
    "mix_spa = phr_length(path_mix_spa, 'mix')\n",
    "mix_eng = phr_length(path_mix_eng, 'mix')\n",
    "on_spa = phr_length(path_on_spa, 'on')\n",
    "on_eng = phr_length(path_on_eng, 'on')\n",
    "off_spa = phr_length(path_off_spa, 'off')\n",
    "off_eng = phr_length(path_off_eng, 'off')\n"
   ]
  },
  {
   "cell_type": "code",
   "execution_count": 3,
   "metadata": {},
   "outputs": [],
   "source": [
    "with open('phrase_duration_mix_spa.csv', \"w\", newline='',encoding='utf-8') as f:\n",
    "        csv_out=csv.writer(f)\n",
    "        csv_out.writerow(['file_name','start_time', 'end_time', 'duration', 'on/off'])\n",
    "        for row in mix_spa:\n",
    "            csv_out.writerow(row)"
   ]
  },
  {
   "cell_type": "code",
   "execution_count": 4,
   "metadata": {},
   "outputs": [],
   "source": [
    "# create a dataframe for each screen category\n",
    "\n",
    "mix_df = pd.DataFrame({'phrase_id': [i[0][-6:] for i in mix_eng], 'spa_id':[i[0][-6:] for i in mix_spa],\n",
    "                       'eng_duration': [i[1] for i in mix_eng],\n",
    "                      'spa_duration': [i[1] for i in mix_spa]})\n",
    "\n",
    "on_df = pd.DataFrame({'phrase_id': [i[0][-6:] for i in on_eng], 'spa_id':[i[0][-6:] for i in on_spa],\n",
    "                      'eng_duration': [i[1] for i in on_eng],\n",
    "                      'spa_duration': [i[1] for i in on_spa]})\n",
    "\n",
    "off_df = pd.DataFrame({'phrase_id': [i[0][-6:] for i in off_eng], 'spa_id':[i[0][-6:] for i in off_spa],\n",
    "                       'eng_duration': [i[1] for i in off_eng],\n",
    "                      'spa_duration': [i[1] for i in off_spa]})\n",
    "\n",
    "dfs = [mix_df, on_df, off_df]\n",
    "\n",
    "for df in dfs:\n",
    "    df['duration_diff_pct'] = (df['spa_duration'] / df['eng_duration']) - 1"
   ]
  },
  {
   "cell_type": "code",
   "execution_count": 5,
   "metadata": {},
   "outputs": [
    {
     "data": {
      "text/html": [
       "<div>\n",
       "<style scoped>\n",
       "    .dataframe tbody tr th:only-of-type {\n",
       "        vertical-align: middle;\n",
       "    }\n",
       "\n",
       "    .dataframe tbody tr th {\n",
       "        vertical-align: top;\n",
       "    }\n",
       "\n",
       "    .dataframe thead th {\n",
       "        text-align: right;\n",
       "    }\n",
       "</style>\n",
       "<table border=\"1\" class=\"dataframe\">\n",
       "  <thead>\n",
       "    <tr style=\"text-align: right;\">\n",
       "      <th></th>\n",
       "      <th>phrase_id</th>\n",
       "      <th>spa_id</th>\n",
       "      <th>eng_duration</th>\n",
       "      <th>spa_duration</th>\n",
       "      <th>duration_diff_pct</th>\n",
       "    </tr>\n",
       "  </thead>\n",
       "  <tbody>\n",
       "    <tr>\n",
       "      <td>0</td>\n",
       "      <td>0318.1</td>\n",
       "      <td>0318.1</td>\n",
       "      <td>1.38</td>\n",
       "      <td>1.81</td>\n",
       "      <td>0.311594</td>\n",
       "    </tr>\n",
       "    <tr>\n",
       "      <td>1</td>\n",
       "      <td>0318.2</td>\n",
       "      <td>0318.2</td>\n",
       "      <td>2.37</td>\n",
       "      <td>2.56</td>\n",
       "      <td>0.080169</td>\n",
       "    </tr>\n",
       "    <tr>\n",
       "      <td>2</td>\n",
       "      <td>0318.3</td>\n",
       "      <td>0318.3</td>\n",
       "      <td>1.08</td>\n",
       "      <td>1.07</td>\n",
       "      <td>-0.009259</td>\n",
       "    </tr>\n",
       "    <tr>\n",
       "      <td>3</td>\n",
       "      <td>0318.4</td>\n",
       "      <td>0318.4</td>\n",
       "      <td>1.43</td>\n",
       "      <td>0.90</td>\n",
       "      <td>-0.370629</td>\n",
       "    </tr>\n",
       "    <tr>\n",
       "      <td>4</td>\n",
       "      <td>0318.5</td>\n",
       "      <td>0318.5</td>\n",
       "      <td>1.39</td>\n",
       "      <td>1.35</td>\n",
       "      <td>-0.028777</td>\n",
       "    </tr>\n",
       "    <tr>\n",
       "      <td>...</td>\n",
       "      <td>...</td>\n",
       "      <td>...</td>\n",
       "      <td>...</td>\n",
       "      <td>...</td>\n",
       "      <td>...</td>\n",
       "    </tr>\n",
       "    <tr>\n",
       "      <td>4157</td>\n",
       "      <td>8.5447</td>\n",
       "      <td>8.5577</td>\n",
       "      <td>1.93</td>\n",
       "      <td>1.82</td>\n",
       "      <td>-0.056995</td>\n",
       "    </tr>\n",
       "    <tr>\n",
       "      <td>4158</td>\n",
       "      <td>8.5450</td>\n",
       "      <td>8.5579</td>\n",
       "      <td>0.50</td>\n",
       "      <td>0.43</td>\n",
       "      <td>-0.140000</td>\n",
       "    </tr>\n",
       "    <tr>\n",
       "      <td>4159</td>\n",
       "      <td>8.5451</td>\n",
       "      <td>8.5580</td>\n",
       "      <td>1.97</td>\n",
       "      <td>1.56</td>\n",
       "      <td>-0.208122</td>\n",
       "    </tr>\n",
       "    <tr>\n",
       "      <td>4160</td>\n",
       "      <td>8.5452</td>\n",
       "      <td>8.5582</td>\n",
       "      <td>1.19</td>\n",
       "      <td>1.15</td>\n",
       "      <td>-0.033613</td>\n",
       "    </tr>\n",
       "    <tr>\n",
       "      <td>4161</td>\n",
       "      <td>8.5453</td>\n",
       "      <td>8.5583</td>\n",
       "      <td>1.30</td>\n",
       "      <td>1.00</td>\n",
       "      <td>-0.230769</td>\n",
       "    </tr>\n",
       "  </tbody>\n",
       "</table>\n",
       "<p>4162 rows × 5 columns</p>\n",
       "</div>"
      ],
      "text/plain": [
       "     phrase_id  spa_id  eng_duration  spa_duration  duration_diff_pct\n",
       "0       0318.1  0318.1          1.38          1.81           0.311594\n",
       "1       0318.2  0318.2          2.37          2.56           0.080169\n",
       "2       0318.3  0318.3          1.08          1.07          -0.009259\n",
       "3       0318.4  0318.4          1.43          0.90          -0.370629\n",
       "4       0318.5  0318.5          1.39          1.35          -0.028777\n",
       "...        ...     ...           ...           ...                ...\n",
       "4157    8.5447  8.5577          1.93          1.82          -0.056995\n",
       "4158    8.5450  8.5579          0.50          0.43          -0.140000\n",
       "4159    8.5451  8.5580          1.97          1.56          -0.208122\n",
       "4160    8.5452  8.5582          1.19          1.15          -0.033613\n",
       "4161    8.5453  8.5583          1.30          1.00          -0.230769\n",
       "\n",
       "[4162 rows x 5 columns]"
      ]
     },
     "execution_count": 5,
     "metadata": {},
     "output_type": "execute_result"
    }
   ],
   "source": [
    "#sample df\n",
    "\n",
    "on_df"
   ]
  },
  {
   "cell_type": "markdown",
   "metadata": {},
   "source": [
    "## **************** Results here ****************"
   ]
  },
  {
   "cell_type": "code",
   "execution_count": 12,
   "metadata": {},
   "outputs": [
    {
     "name": "stdout",
     "output_type": "stream",
     "text": [
      "mean phrase duration ENG (secs):  1.3961244593945226\n",
      "stdev phrase duration ENG (secs):  0.8402507018123755\n",
      "mean phrase duration SPA (secs):  1.3273666506487276\n",
      "stdev phrase duration SPA (secs):  0.7774998195216476\n",
      "mean proportional difference in phrase length (secs):  0.10562654925539713\n"
     ]
    },
    {
     "data": {
      "text/plain": [
       "Ttest_relResult(statistic=6.91727885939253, pvalue=5.307417481455191e-12)"
      ]
     },
     "execution_count": 12,
     "metadata": {},
     "output_type": "execute_result"
    },
    {
     "data": {
      "image/png": "[encoded data removed]",
      "text/plain": [
       "<Figure size 432x288 with 1 Axes>"
      ]
     },
     "metadata": {
      "needs_background": "light"
     },
     "output_type": "display_data"
    }
   ],
   "source": [
    "# ON\n",
    "import scipy.stats as stats\n",
    "\n",
    "print('mean phrase duration ENG (secs): ', on_df['eng_duration'].mean())\n",
    "print('stdev phrase duration ENG (secs): ', on_df['eng_duration'].std())\n",
    "\n",
    "print('mean phrase duration SPA (secs): ', on_df['spa_duration'].mean())\n",
    "print('stdev phrase duration SPA (secs): ', on_df['spa_duration'].std())\n",
    "\n",
    "print('mean proportional difference in phrase length (secs): ', on_df['duration_diff_pct'].mean())\n",
    "\n",
    "on_df['duration_diff_pct'].plot.hist(bins=50)\n",
    "\n",
    "# T-test between ENG duration and SPA duration\n",
    "stats.ttest_rel(on_df['eng_duration'], on_df['spa_duration'])"
   ]
  },
  {
   "cell_type": "code",
   "execution_count": 13,
   "metadata": {},
   "outputs": [
    {
     "name": "stdout",
     "output_type": "stream",
     "text": [
      "mean phrase duration ENG (secs):  1.4840166666666676\n",
      "stdev phrase duration ENG (secs):  0.9863085403849303\n",
      "mean phrase duration SPA (secs):  1.3653749999999996\n",
      "stdev phrase duration SPA (secs):  0.8596373303074073\n",
      "mean proportional difference in phrase length (secs):  0.06760986939029953\n"
     ]
    },
    {
     "data": {
      "text/plain": [
       "Ttest_relResult(statistic=5.709489807870014, pvalue=1.427441051865325e-08)"
      ]
     },
     "execution_count": 13,
     "metadata": {},
     "output_type": "execute_result"
    },
    {
     "data": {
      "image/png": "[encoded data removed]",
      "text/plain": [
       "<Figure size 432x288 with 1 Axes>"
      ]
     },
     "metadata": {
      "needs_background": "light"
     },
     "output_type": "display_data"
    }
   ],
   "source": [
    "# OFF\n",
    "\n",
    "print('mean phrase duration ENG (secs): ', off_df['eng_duration'].mean())\n",
    "print('stdev phrase duration ENG (secs): ', off_df['eng_duration'].std())\n",
    "\n",
    "print('mean phrase duration SPA (secs): ', off_df['spa_duration'].mean())\n",
    "print('stdev phrase duration SPA (secs): ', off_df['spa_duration'].std())\n",
    "\n",
    "print('mean proportional difference in phrase length (secs): ', off_df['duration_diff_pct'].mean())\n",
    "\n",
    "off_df['duration_diff_pct'].plot.hist(bins=50)\n",
    "\n",
    "# T-test\n",
    "stats.ttest_rel(off_df['eng_duration'], off_df['spa_duration'])"
   ]
  },
  {
   "cell_type": "code",
   "execution_count": 15,
   "metadata": {},
   "outputs": [
    {
     "name": "stdout",
     "output_type": "stream",
     "text": [
      "mean phrase duration ENG (secs):  1.9285139318885416\n",
      "stdev phrase duration ENG (secs):  1.1019058159208441\n",
      "mean phrase duration SPA (secs):  1.7714922600619172\n",
      "stdev phrase duration SPA (secs):  1.0487512204816463\n"
     ]
    },
    {
     "data": {
      "text/plain": [
       "Ttest_relResult(statistic=6.521148194432397, pvalue=9.307281592189292e-11)"
      ]
     },
     "execution_count": 15,
     "metadata": {},
     "output_type": "execute_result"
    },
    {
     "data": {
      "image/png": "[encoded data removed]",
      "text/plain": [
       "<Figure size 432x288 with 1 Axes>"
      ]
     },
     "metadata": {
      "needs_background": "light"
     },
     "output_type": "display_data"
    }
   ],
   "source": [
    "# MIXED\n",
    "\n",
    "print('mean phrase duration ENG (secs): ', mix_df['eng_duration'].mean())\n",
    "print('stdev phrase duration ENG (secs): ', mix_df['eng_duration'].std())\n",
    "\n",
    "print('mean phrase duration SPA (secs): ', mix_df['spa_duration'].mean())\n",
    "print('stdev phrase duration SPA (secs): ', mix_df['spa_duration'].std())\n",
    "\n",
    "mix_df['duration_diff_pct'].plot.hist(bins=50)\n",
    "\n",
    "# T-test\n",
    "stats.ttest_rel(mix_df['eng_duration'], mix_df['spa_duration'])"
   ]
  },
  {
   "cell_type": "code",
   "execution_count": null,
   "metadata": {},
   "outputs": [],
   "source": []
  }
 ],
 "metadata": {
  "kernelspec": {
   "display_name": "Python 3",
   "language": "python",
   "name": "python3"
  },
  "language_info": {
   "codemirror_mode": {
    "name": "ipython",
    "version": 3
   },
   "file_extension": ".py",
   "mimetype": "text/x-python",
   "name": "python",
   "nbconvert_exporter": "python",
   "pygments_lexer": "ipython3",
   "version": "3.7.4"
  }
 },
 "nbformat": 4,
 "nbformat_minor": 2
}
